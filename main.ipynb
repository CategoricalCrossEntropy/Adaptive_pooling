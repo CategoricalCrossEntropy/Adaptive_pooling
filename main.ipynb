{
  "nbformat": 4,
  "nbformat_minor": 0,
  "metadata": {
    "colab": {
      "name": "var_pool2.ipynb",
      "provenance": [],
      "collapsed_sections": []
    },
    "kernelspec": {
      "display_name": "Python 3",
      "name": "python3"
    },
    "language_info": {
      "name": "python"
    },
    "accelerator": "GPU"
  },
  "cells": [
    {
      "cell_type": "code",
      "metadata": {
        "id": "mFUikSVe2fr4"
      },
      "source": [
        "import numpy as np\n",
        "import matplotlib.pyplot as plt\n",
        "import cv2\n",
        "from tensorflow import keras\n",
        "from tensorflow.keras import layers"
      ],
      "execution_count": null,
      "outputs": []
    },
    {
      "cell_type": "code",
      "metadata": {
        "id": "E_Tlsd_72p9P"
      },
      "source": [
        "def show(image):\n",
        "    if image.shape[-1] == 1:\n",
        "        image = image.reshape(image.shape[0:-1])\n",
        "    plt.imshow(image)\n",
        "    plt.show()\n",
        "\n",
        "def pooling(mat,ksize,method='mean',pad=False):\n",
        "    m, n = mat.shape[:2]\n",
        "    ky,kx=ksize\n",
        "    _ceil=lambda x,y: int(np.ceil(x/float(y)))\n",
        "    if pad:\n",
        "        ny=_ceil(m,ky)\n",
        "        nx=_ceil(n,kx)\n",
        "        size=(ny*ky, nx*kx)+mat.shape[2:]\n",
        "        mat_pad=np.full(size,np.nan)\n",
        "        mat_pad[:m,:n,...]=mat\n",
        "    else:\n",
        "        ny=m//ky\n",
        "        nx=n//kx\n",
        "        mat_pad=mat[:ny*ky, :nx*kx, ...]\n",
        "    new_shape=(ny,ky,nx,kx)+mat.shape[2:]\n",
        "    if method=='max':\n",
        "        result=np.nanmax(mat_pad.reshape(new_shape),axis=(1,3))\n",
        "    else:\n",
        "        result=np.nanmean(mat_pad.reshape(new_shape),axis=(1,3))\n",
        "    return result\n",
        "\n",
        "def resized(matrix, factor = 2):\n",
        "    h, w, *c = matrix.shape\n",
        "    matrix = cv2.resize(matrix.astype('float32'), dsize=(w * factor, h * factor),\n",
        "                        interpolation=cv2.INTER_NEAREST)\n",
        "    return matrix\n",
        "\n",
        "\n",
        "class mask:\n",
        "    def __init__(self, image, kernel_size = 2, center = [0.5, 0.5], side = 0.8):\n",
        "        img_height, img_width = image.shape[:2]\n",
        "        radius = side / 2\n",
        "        y_min, y_max = center[0] - radius, center[0] + radius\n",
        "        x_min, x_max = center[1] - radius, center[1] + radius\n",
        "        y_min, y_max, x_min, x_max = (max(0, y_min), min(1, y_max),\n",
        "                                      max(0, x_min), min(1, x_max))\n",
        "        kernel_round = lambda x, ks: int((x // ks) * ks)\n",
        "        y_min = kernel_round(img_height * y_min, kernel_size)\n",
        "        y_max = kernel_round(img_height * y_max, kernel_size)\n",
        "        x_min = kernel_round(img_width  * x_min, kernel_size)\n",
        "        x_max = kernel_round(img_width  * x_max, kernel_size)\n",
        "        self.sides = (y_min, y_max, x_min, x_max)\n",
        "        self.image = pooling(image[y_min:y_max,x_min:x_max],\n",
        "                             ksize = (kernel_size, kernel_size))\n",
        "        self.kernel_size = kernel_size\n",
        "        \n",
        "    def flatten(self):\n",
        "        return self.image.flatten()\n",
        "\n",
        "    def representation(self):\n",
        "        return resized(self.image, factor=self.kernel_size)\n",
        "\n",
        "    def __repr__(self):\n",
        "        return \"mask: {}, kernel size: {}, sides: {}\".format(self.image.shape,\n",
        "                                                             self.kernel_size,\n",
        "                                                             self.sides)\n",
        "\n",
        "\n",
        "class adaPool:\n",
        "    def __init__(self, image, centers = [[0.5, 0.5]], max_kernel = 2, focus = 0.4):\n",
        "        masks = []\n",
        "        kernel_size = max_kernel\n",
        "        side = 1\n",
        "        while kernel_size != 0:\n",
        "            for center in centers:\n",
        "                masks.append(mask(image, kernel_size, center, side))\n",
        "            kernel_size //= 2\n",
        "            side *= focus\n",
        "        \n",
        "        self.masks = masks\n",
        "        self.centers = centers\n",
        "        self.image = image\n",
        "        self.max_kernel = max_kernel\n",
        "        self.focus = focus\n",
        "    \n",
        "    def flatten(self):\n",
        "        res = np.array([])\n",
        "        for mask in self.masks:\n",
        "            res = np.append(res, mask.flatten())\n",
        "        return res\n",
        "\n",
        "    def representation(self):\n",
        "        plot = np.zeros(self.image.shape)\n",
        "        for mask in self.masks:\n",
        "            y_min, y_max, x_min, x_max = mask.sides\n",
        "            plot[y_min:y_max, x_min:x_max] = mask.representation()\n",
        "        return plot\n",
        "\n"
      ],
      "execution_count": null,
      "outputs": []
    },
    {
      "cell_type": "code",
      "metadata": {
        "colab": {
          "base_uri": "https://localhost:8080/",
          "height": 52
        },
        "id": "DrU_xFglYPCT",
        "outputId": "75e9f30a-6ef6-428f-de0f-392919cdf05a"
      },
      "source": [
        "'''\n",
        "img = cv2.imread(\"/content/чайка.jpg\")\n",
        "img = np.array(img, dtype=np.float32)\n",
        "img = cv2.cvtColor(img, cv2.COLOR_BGR2RGB)\n",
        "img /= 255\n",
        "img = adaPool(img, centers = [[0.4, 0.55]], max_kernel = 32, focus = 0.5)\n",
        "show(img.representation())\n",
        "'''"
      ],
      "execution_count": null,
      "outputs": [
        {
          "output_type": "execute_result",
          "data": {
            "application/vnd.google.colaboratory.intrinsic+json": {
              "type": "string"
            },
            "text/plain": [
              "'\\nimg = cv2.imread(\"/content/чайка.jpg\")\\nimg = np.array(img, dtype=np.float32)\\nimg = cv2.cvtColor(img, cv2.COLOR_BGR2RGB)\\nimg /= 255\\nimg = adaPool(img, centers = [[0.4, 0.55]], max_kernel = 32, focus = 0.5)\\nshow(img.representation())\\n'"
            ]
          },
          "metadata": {
            "tags": []
          },
          "execution_count": 40
        }
      ]
    },
    {
      "cell_type": "code",
      "metadata": {
        "colab": {
          "base_uri": "https://localhost:8080/"
        },
        "id": "4Y0eiO-AXdfh",
        "outputId": "396cdeea-9d4a-4125-df96-14e269bc22eb"
      },
      "source": [
        "num_classes = 10\n",
        "input_shape = (32, 32, 3)\n",
        "\n",
        "(x_train, y_train), (x_test, y_test) = keras.datasets.cifar10.load_data()\n",
        "\n",
        "x_train, y_train = x_train[:60000], y_train[:60000]\n",
        "\n",
        "x_train = x_train.astype(\"float32\") / 255\n",
        "x_test = x_test.astype(\"float32\") / 255\n",
        "\n",
        "x_train = np.expand_dims(x_train, -1)\n",
        "x_test = np.expand_dims(x_test, -1)\n",
        "\n",
        "\n",
        "y_train = keras.utils.to_categorical(y_train, num_classes)\n",
        "y_test = keras.utils.to_categorical(y_test, num_classes)\n",
        "\n",
        "print(\"x_train shape:\", x_train.shape)\n",
        "print(x_train.shape[0], \"train samples\")\n",
        "print(x_test.shape[0], \"test samples\")\n",
        "\n",
        "default_model = keras.Sequential(\n",
        "    [\n",
        "        keras.Input(shape=input_shape),\n",
        "        layers.Flatten(),\n",
        "        layers.Dense(50,  activation=\"relu\"),\n",
        "        layers.Dense(num_classes, activation=\"softmax\"),\n",
        "    ]\n",
        ")\n",
        "\n",
        "default_model.summary()"
      ],
      "execution_count": null,
      "outputs": [
        {
          "output_type": "stream",
          "text": [
            "x_train shape: (50000, 32, 32, 3, 1)\n",
            "50000 train samples\n",
            "10000 test samples\n",
            "WARNING:tensorflow:Please add `keras.layers.InputLayer` instead of `keras.Input` to Sequential model. `keras.Input` is intended to be used by Functional model.\n",
            "Model: \"sequential_11\"\n",
            "_________________________________________________________________\n",
            "Layer (type)                 Output Shape              Param #   \n",
            "=================================================================\n",
            "flatten_11 (Flatten)         (None, 3072)              0         \n",
            "_________________________________________________________________\n",
            "dense_22 (Dense)             (None, 50)                153650    \n",
            "_________________________________________________________________\n",
            "dense_23 (Dense)             (None, 10)                510       \n",
            "=================================================================\n",
            "Total params: 154,160\n",
            "Trainable params: 154,160\n",
            "Non-trainable params: 0\n",
            "_________________________________________________________________\n"
          ],
          "name": "stdout"
        }
      ]
    },
    {
      "cell_type": "code",
      "metadata": {
        "colab": {
          "base_uri": "https://localhost:8080/"
        },
        "id": "TrU8V-kuXqUm",
        "outputId": "358becc8-30ab-4dea-a4ce-c46bf3ebbbe0"
      },
      "source": [
        "x_train_pool = []\n",
        "x_test_pool = []\n",
        "max_kernel_size = 4\n",
        "focus = 0.3\n",
        "for i, x in enumerate(x_train):\n",
        "    x = adaPool(x)\n",
        "    x_train_pool.append(x.flatten())\n",
        "    if i % 5000== 0:\n",
        "        print(\"{} / {}\".format(i, x_train.shape[0]))\n",
        "\n",
        "for i, x in enumerate(x_test):\n",
        "    x = adaPool(x)\n",
        "    x_test_pool.append(x.flatten())\n",
        "    if i % 5000== 0:\n",
        "        print(\"{} / {}\".format(i, x_test.shape[0]))\n",
        "\n",
        "x_train_pool = np.array(x_train_pool)\n",
        "x_test_pool = np.array(x_test_pool)\n",
        "print(x_train_pool.shape)\n",
        "print(x_test_pool.shape)"
      ],
      "execution_count": null,
      "outputs": [
        {
          "output_type": "stream",
          "text": [
            "0 / 50000\n",
            "5000 / 50000\n",
            "10000 / 50000\n",
            "15000 / 50000\n",
            "20000 / 50000\n",
            "25000 / 50000\n",
            "30000 / 50000\n",
            "35000 / 50000\n",
            "40000 / 50000\n",
            "45000 / 50000\n",
            "0 / 10000\n",
            "5000 / 10000\n",
            "(50000, 1275)\n",
            "(10000, 1275)\n"
          ],
          "name": "stdout"
        }
      ]
    },
    {
      "cell_type": "code",
      "metadata": {
        "colab": {
          "base_uri": "https://localhost:8080/"
        },
        "id": "M7G46Ep6XtGB",
        "outputId": "cee60b98-d1f5-45da-ce22-66b79e8bad89"
      },
      "source": [
        "pooled_model = keras.Sequential(\n",
        "    [\n",
        "        keras.Input(shape=x_train_pool[0].shape),\n",
        "        layers.Flatten(),\n",
        "        layers.Dense(50,  activation=\"relu\"),\n",
        "        layers.Dense(num_classes, activation=\"softmax\"),\n",
        "    ]\n",
        ")\n",
        "\n",
        "pooled_model.summary()"
      ],
      "execution_count": null,
      "outputs": [
        {
          "output_type": "stream",
          "text": [
            "WARNING:tensorflow:Please add `keras.layers.InputLayer` instead of `keras.Input` to Sequential model. `keras.Input` is intended to be used by Functional model.\n",
            "Model: \"sequential_12\"\n",
            "_________________________________________________________________\n",
            "Layer (type)                 Output Shape              Param #   \n",
            "=================================================================\n",
            "flatten_12 (Flatten)         (None, 1275)              0         \n",
            "_________________________________________________________________\n",
            "dense_24 (Dense)             (None, 50)                63800     \n",
            "_________________________________________________________________\n",
            "dense_25 (Dense)             (None, 10)                510       \n",
            "=================================================================\n",
            "Total params: 64,310\n",
            "Trainable params: 64,310\n",
            "Non-trainable params: 0\n",
            "_________________________________________________________________\n"
          ],
          "name": "stdout"
        }
      ]
    },
    {
      "cell_type": "code",
      "metadata": {
        "colab": {
          "base_uri": "https://localhost:8080/"
        },
        "id": "CG0MWbMDXyLr",
        "outputId": "82b53b23-930c-4c91-a833-1ac8a4dbf0cf"
      },
      "source": [
        "batch_size = 32\n",
        "epochs = 15\n",
        "\n",
        "default_model.compile(loss=\"categorical_crossentropy\", optimizer=\"adam\", metrics=[\"accuracy\"])\n",
        "pooled_model.compile( loss=\"categorical_crossentropy\", optimizer=\"adam\", metrics=[\"accuracy\"])\n",
        "\n",
        "default_history = default_model.fit(x_train, y_train, batch_size=batch_size, epochs=epochs, validation_split=0.4)\n",
        "pooled_history  = pooled_model.fit( x_train_pool, y_train, \n",
        "                                   batch_size=batch_size, epochs=epochs, validation_split=0.4)\n",
        "\n",
        "score = default_model.evaluate(x_test, y_test, verbose=0)\n",
        "pooled_score = pooled_model.evaluate(x_test_pool, y_test, verbose=0)\n",
        "print(\"Test loss:\", score[0])\n",
        "print(\"Test accuracy:\", score[1])\n",
        "\n",
        "print(\"Test loss pooled:\", pooled_score[0])\n",
        "print(\"Test accuracy pooled:\", pooled_score[1])"
      ],
      "execution_count": null,
      "outputs": [
        {
          "output_type": "stream",
          "text": [
            "Epoch 1/15\n",
            "938/938 [==============================] - 4s 4ms/step - loss: 1.9619 - accuracy: 0.2921 - val_loss: 1.8898 - val_accuracy: 0.3189\n",
            "Epoch 2/15\n",
            "938/938 [==============================] - 3s 3ms/step - loss: 1.8311 - accuracy: 0.3516 - val_loss: 1.8833 - val_accuracy: 0.3379\n",
            "Epoch 3/15\n",
            "938/938 [==============================] - 3s 3ms/step - loss: 1.7863 - accuracy: 0.3644 - val_loss: 1.7933 - val_accuracy: 0.3673\n",
            "Epoch 4/15\n",
            "938/938 [==============================] - 3s 3ms/step - loss: 1.7614 - accuracy: 0.3757 - val_loss: 1.7571 - val_accuracy: 0.3871\n",
            "Epoch 5/15\n",
            "938/938 [==============================] - 3s 3ms/step - loss: 1.7446 - accuracy: 0.3821 - val_loss: 1.7749 - val_accuracy: 0.3720\n",
            "Epoch 6/15\n",
            "938/938 [==============================] - 3s 3ms/step - loss: 1.7351 - accuracy: 0.3852 - val_loss: 1.7579 - val_accuracy: 0.3722\n",
            "Epoch 7/15\n",
            "938/938 [==============================] - 3s 4ms/step - loss: 1.7188 - accuracy: 0.3883 - val_loss: 1.7958 - val_accuracy: 0.3595\n",
            "Epoch 8/15\n",
            "938/938 [==============================] - 3s 3ms/step - loss: 1.7068 - accuracy: 0.3915 - val_loss: 1.7537 - val_accuracy: 0.3805\n",
            "Epoch 9/15\n",
            "938/938 [==============================] - 3s 4ms/step - loss: 1.6952 - accuracy: 0.3928 - val_loss: 1.7404 - val_accuracy: 0.3855\n",
            "Epoch 10/15\n",
            "938/938 [==============================] - 3s 3ms/step - loss: 1.6826 - accuracy: 0.3961 - val_loss: 1.7306 - val_accuracy: 0.3841\n",
            "Epoch 11/15\n",
            "938/938 [==============================] - 3s 4ms/step - loss: 1.6722 - accuracy: 0.4013 - val_loss: 1.7040 - val_accuracy: 0.3909\n",
            "Epoch 12/15\n",
            "938/938 [==============================] - 3s 3ms/step - loss: 1.6616 - accuracy: 0.4044 - val_loss: 1.7305 - val_accuracy: 0.3817\n",
            "Epoch 13/15\n",
            "938/938 [==============================] - 3s 4ms/step - loss: 1.6579 - accuracy: 0.4030 - val_loss: 1.7188 - val_accuracy: 0.3842\n",
            "Epoch 14/15\n",
            "938/938 [==============================] - 3s 3ms/step - loss: 1.6483 - accuracy: 0.4139 - val_loss: 1.7260 - val_accuracy: 0.3814\n",
            "Epoch 15/15\n",
            "938/938 [==============================] - 3s 4ms/step - loss: 1.6446 - accuracy: 0.4085 - val_loss: 1.7050 - val_accuracy: 0.3932\n",
            "Epoch 1/15\n",
            "938/938 [==============================] - 4s 4ms/step - loss: 1.9639 - accuracy: 0.2859 - val_loss: 1.8662 - val_accuracy: 0.3300\n",
            "Epoch 2/15\n",
            "938/938 [==============================] - 3s 3ms/step - loss: 1.8241 - accuracy: 0.3494 - val_loss: 1.8013 - val_accuracy: 0.3540\n",
            "Epoch 3/15\n",
            "938/938 [==============================] - 3s 4ms/step - loss: 1.7640 - accuracy: 0.3718 - val_loss: 1.7545 - val_accuracy: 0.3785\n",
            "Epoch 4/15\n",
            "938/938 [==============================] - 3s 3ms/step - loss: 1.7294 - accuracy: 0.3896 - val_loss: 1.7441 - val_accuracy: 0.3823\n",
            "Epoch 5/15\n",
            "938/938 [==============================] - 3s 3ms/step - loss: 1.7014 - accuracy: 0.3958 - val_loss: 1.7282 - val_accuracy: 0.3849\n",
            "Epoch 6/15\n",
            "938/938 [==============================] - 3s 3ms/step - loss: 1.6875 - accuracy: 0.3994 - val_loss: 1.7132 - val_accuracy: 0.3904\n",
            "Epoch 7/15\n",
            "938/938 [==============================] - 3s 3ms/step - loss: 1.6755 - accuracy: 0.4035 - val_loss: 1.7152 - val_accuracy: 0.3937\n",
            "Epoch 8/15\n",
            "938/938 [==============================] - 3s 3ms/step - loss: 1.6644 - accuracy: 0.4078 - val_loss: 1.6855 - val_accuracy: 0.4035\n",
            "Epoch 9/15\n",
            "938/938 [==============================] - 3s 3ms/step - loss: 1.6532 - accuracy: 0.4108 - val_loss: 1.7052 - val_accuracy: 0.3941\n",
            "Epoch 10/15\n",
            "938/938 [==============================] - 3s 3ms/step - loss: 1.6496 - accuracy: 0.4099 - val_loss: 1.7165 - val_accuracy: 0.3823\n",
            "Epoch 11/15\n",
            "938/938 [==============================] - 3s 3ms/step - loss: 1.6440 - accuracy: 0.4135 - val_loss: 1.6829 - val_accuracy: 0.4065\n",
            "Epoch 12/15\n",
            "938/938 [==============================] - 3s 3ms/step - loss: 1.6328 - accuracy: 0.4144 - val_loss: 1.6898 - val_accuracy: 0.3975\n",
            "Epoch 13/15\n",
            "938/938 [==============================] - 3s 3ms/step - loss: 1.6334 - accuracy: 0.4171 - val_loss: 1.6932 - val_accuracy: 0.3972\n",
            "Epoch 14/15\n",
            "938/938 [==============================] - 3s 3ms/step - loss: 1.6281 - accuracy: 0.4178 - val_loss: 1.6689 - val_accuracy: 0.4074\n",
            "Epoch 15/15\n",
            "938/938 [==============================] - 3s 3ms/step - loss: 1.6214 - accuracy: 0.4223 - val_loss: 1.6710 - val_accuracy: 0.4049\n",
            "Test loss: 1.688056230545044\n",
            "Test accuracy: 0.3950999975204468\n",
            "Test loss pooled: 1.649516224861145\n",
            "Test accuracy pooled: 0.40950000286102295\n"
          ],
          "name": "stdout"
        }
      ]
    },
    {
      "cell_type": "code",
      "metadata": {
        "colab": {
          "base_uri": "https://localhost:8080/",
          "height": 295
        },
        "id": "mVYOquOxX0Yd",
        "outputId": "d20bc754-e69a-4272-9d27-c3661f01220d"
      },
      "source": [
        "acc = default_history.history['val_accuracy']\n",
        "p_acc   = pooled_history.history['val_accuracy']\n",
        "plt.plot(acc)\n",
        "plt.plot(p_acc)\n",
        "plt.title('model accuracy')\n",
        "plt.ylabel('accuracy')\n",
        "plt.xlabel('epoch')\n",
        "plt.legend(['default', 'pooled'], loc='upper left')\n",
        "plt.show()"
      ],
      "execution_count": null,
      "outputs": [
        {
          "output_type": "display_data",
          "data": {
            "image/png": "[encoded data removed]",
            "text/plain": [
              "<Figure size 432x288 with 1 Axes>"
            ]
          },
          "metadata": {
            "tags": [],
            "needs_background": "light"
          }
        }
      ]
    }
  ]
}
